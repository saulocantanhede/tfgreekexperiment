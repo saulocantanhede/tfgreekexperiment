{
 "cells": [
  {
   "cell_type": "code",
   "execution_count": 26,
   "id": "307cef19-205c-4bfd-bb9d-97d04cfcf5aa",
   "metadata": {},
   "outputs": [],
   "source": [
    "import xml.etree.ElementTree as ET # importing ElementTree class\n",
    "import pandas as pd\n",
    "import csv # Define the path of the xml document source\n",
    "    \n",
    "source_dirs = '/Users/TF/Downloads/input_xml/text.xml'\n",
    "\n",
    "tree = ET.parse(source_dirs) # Pass the path of the xml document\n",
    "root = tree.getroot() # Get the parent tag"
   ]
  },
  {
   "cell_type": "code",
   "execution_count": 6,
   "id": "d4a02f3b-b9e7-4432-82bb-0b77d31be5fb",
   "metadata": {},
   "outputs": [
    {
     "name": "stdout",
     "output_type": "stream",
     "text": [
      "{'name': 'Matthew'} Matthew book\n"
     ]
    }
   ],
   "source": [
    "book = root.attrib # get all attributes in root\n",
    "print(root.attrib, root.attrib.get('name'), root.tag)\n",
    "#book = print(*book.values())"
   ]
  },
  {
   "cell_type": "code",
   "execution_count": 32,
   "id": "129609f6-3795-49e3-a398-68c0e5dac110",
   "metadata": {},
   "outputs": [
    {
     "name": "stdout",
     "output_type": "stream",
     "text": [
      "w_nm\twg_nm\trole\tclass\tn\tarticular\thead\trule\tclass\ttype\tosisId\tn\tlemma\tnormalized\tstrong\tnumber\tgender\tcase\ttense\tvoice\tmood\thead\tdiscontinuos\tgloss\n",
      "1\t1\tcl\tNone\tNone\tNone\tNone\tNone\tNone\tnoun\tcommon\tMatt.1.1!1\t400010010010010\tβίβλος\tΒίβλος\t976\tsingular\tfeminine\tnominative\tNone\tNone\tNone\ttrue\tNone\t[The] book\n",
      "2\t2\tcl\tNone\tNone\tNone\tNone\tNone\tNone\tnoun\tcommon\tMatt.1.1!2\t400010010020010\tγένεσις\tγενέσεως\t1078\tsingular\tfeminine\tgenitive\tNone\tNone\tNone\ttrue\tNone\tof [the] genealogy\n",
      "3\t3\tcl\tNone\tNone\tNone\tNone\tNone\tNone\tnoun\tproper\tMatt.1.1!3\t400010010030010\tἸησοῦς\tἸησοῦ\t2424\tsingular\tmasculine\tgenitive\tNone\tNone\tNone\ttrue\tNone\tof Jesus\n",
      "4\t4\tcl\tNone\tNone\tNone\tNone\tNone\tNone\tnoun\tproper\tMatt.1.1!4\t400010010040010\tΧριστός\tΧριστοῦ\t5547\tsingular\tmasculine\tgenitive\tNone\tNone\tNone\tNone\tNone\tChrist\n",
      "5\t5\tcl\tNone\tNone\tNone\tNone\tNone\tNone\tnoun\tcommon\tMatt.1.1!5\t400010010050010\tυἱός\tυἱοῦ\t5207\tsingular\tmasculine\tgenitive\tNone\tNone\tNone\ttrue\tNone\tson\n",
      "6\t6\tcl\tNone\tNone\tNone\tNone\tNone\tNone\tnoun\tproper\tMatt.1.1!6\t400010010060010\tΔαυίδ\tΔαυείδ\t1138\tsingular\tmasculine\tgenitive\tNone\tNone\tNone\tNone\tNone\tof David\n",
      "7\t7\tcl\tNone\tNone\tNone\tNone\tNone\tNone\tnoun\tcommon\tMatt.1.1!7\t400010010070010\tυἱός\tυἱοῦ\t5207\tsingular\tmasculine\tgenitive\tNone\tNone\tNone\ttrue\tNone\tson\n",
      "8\t8\tcl\tNone\tNone\tNone\tNone\tNone\tNone\tnoun\tproper\tMatt.1.1!8\t400010010080010\tἈβραάμ\tἈβραάμ\t11\tsingular\tmasculine\tgenitive\tNone\tNone\tNone\tNone\tNone\tof Abraham\n"
     ]
    }
   ],
   "source": [
    "word_num = 1\n",
    "wg_num = 1\n",
    "print('w_nm','wg_nm',\n",
    "      'role','class','n','articular','head','rule',\n",
    "      'class','type','osisId','n','lemma','normalized','strong','number','gender','case','tense','voice','mood','head','discontinuos','gloss',\n",
    "      sep = '\\t')\n",
    "\n",
    "for elem_wg in root.iter('wg'):\n",
    "    for elem_w in root.iter('w'):\n",
    "        if elem_wg.attrib.get('role') == 'cl':\n",
    "            print(word_num, wg_num,\n",
    "                  elem_wg.attrib.get('role'),\n",
    "                  elem_wg.attrib.get('class'),\n",
    "                  elem_wg.attrib.get('n'),\n",
    "                  elem_wg.attrib.get('articular'),\n",
    "                  elem_wg.attrib.get('head'),\n",
    "                  elem_wg.attrib.get('rule'),\n",
    "                  elem_w.attrib.get('role'),\n",
    "                  elem_w.attrib.get('class'),\n",
    "                  elem_w.attrib.get('type'),\n",
    "                  elem_w.attrib.get('osisId'),\n",
    "                  elem_w.attrib.get('n'),\n",
    "                  elem_w.attrib.get('lemma'),\n",
    "                  elem_w.attrib.get('normalized'),\n",
    "                  elem_w.attrib.get('strong'),\n",
    "                  elem_w.attrib.get('number'),\n",
    "                  elem_w.attrib.get('gender'),\n",
    "                  elem_w.attrib.get('case'),\n",
    "                  elem_w.attrib.get('tense'),\n",
    "                  elem_w.attrib.get('voice'),\n",
    "                  elem_w.attrib.get('mood'),\n",
    "                  elem_w.attrib.get('head'),\n",
    "                  elem_w.attrib.get('discontinuos'),\n",
    "                  elem_w.attrib.get('gloss'),\n",
    "                  sep = '\\t')\n",
    "            word_num = word_num + 1\n",
    "        wg_num = wg_num + 1"
   ]
  },
  {
   "cell_type": "code",
   "execution_count": 11,
   "id": "7f778748-6978-4f09-bfa5-991b872abb3c",
   "metadata": {},
   "outputs": [
    {
     "name": "stdout",
     "output_type": "stream",
     "text": [
      "wg_nm\trole\tclass\tn\tarticular\thead\trule\n",
      "1\tcl\tNone\tNone\tNone\tNone\tNone\n",
      "2\tNone\tcl\t400010010010082\tNone\tNone\tP2CL\n",
      "3\tp\tnp\t400010010010080\tNone\tNone\tNPofNP\n",
      "4\tNone\tnp\t400010010020070\tNone\tNone\tNPofNP\n",
      "5\tNone\tnp\t400010010030060\tNone\tNone\tNp-Appos\n",
      "6\tNone\tnp\t400010010030040\tNone\ttrue\tNp-Appos\n",
      "7\tNone\tnp\t400010010030020\tNone\ttrue\tNp-Appos\n",
      "8\tNone\tnp\t400010010050020\tNone\tNone\tNPofNP\n",
      "9\tNone\tnp\t400010010070020\tNone\tNone\tNPofNP\n"
     ]
    }
   ],
   "source": [
    "wg_num = 1\n",
    "print('wg_nm','role','class','n','articular','head','rule',sep = '\\t')\n",
    "for elem in root.iter('wg'):\n",
    "    print(wg_num,\n",
    "          elem.attrib.get('role'),\n",
    "          elem.attrib.get('class'),\n",
    "          elem.attrib.get('n'),\n",
    "          elem.attrib.get('articular'),\n",
    "          elem.attrib.get('head'),\n",
    "          elem.attrib.get('rule'),\n",
    "          sep = '\\t')\n",
    "    wg_num = wg_num + 1"
   ]
  },
  {
   "cell_type": "code",
   "execution_count": 13,
   "id": "72065775-aad1-41d1-bfc3-1c277a849305",
   "metadata": {},
   "outputs": [
    {
     "name": "stdout",
     "output_type": "stream",
     "text": [
      "w_nm\trole\tclass\ttype\tosisId\tn\tlemma\tnormalized\tstrong\tnumber\tgender\tcase\ttense\tvoice\tmood\thead\tdiscontinuos\tgloss\n",
      "1\tNone\tnoun\tcommon\tMatt.1.1!1\t400010010010010\tβίβλος\tΒίβλος\t976\tsingular\tfeminine\tnominative\tNone\tNone\tNone\ttrue\tNone\t[The] book\n",
      "2\tNone\tnoun\tcommon\tMatt.1.1!2\t400010010020010\tγένεσις\tγενέσεως\t1078\tsingular\tfeminine\tgenitive\tNone\tNone\tNone\ttrue\tNone\tof [the] genealogy\n",
      "3\tNone\tnoun\tproper\tMatt.1.1!3\t400010010030010\tἸησοῦς\tἸησοῦ\t2424\tsingular\tmasculine\tgenitive\tNone\tNone\tNone\ttrue\tNone\tof Jesus\n",
      "4\tNone\tnoun\tproper\tMatt.1.1!4\t400010010040010\tΧριστός\tΧριστοῦ\t5547\tsingular\tmasculine\tgenitive\tNone\tNone\tNone\tNone\tNone\tChrist\n",
      "5\tNone\tnoun\tcommon\tMatt.1.1!5\t400010010050010\tυἱός\tυἱοῦ\t5207\tsingular\tmasculine\tgenitive\tNone\tNone\tNone\ttrue\tNone\tson\n",
      "6\tNone\tnoun\tproper\tMatt.1.1!6\t400010010060010\tΔαυίδ\tΔαυείδ\t1138\tsingular\tmasculine\tgenitive\tNone\tNone\tNone\tNone\tNone\tof David\n",
      "7\tNone\tnoun\tcommon\tMatt.1.1!7\t400010010070010\tυἱός\tυἱοῦ\t5207\tsingular\tmasculine\tgenitive\tNone\tNone\tNone\ttrue\tNone\tson\n",
      "8\tNone\tnoun\tproper\tMatt.1.1!8\t400010010080010\tἈβραάμ\tἈβραάμ\t11\tsingular\tmasculine\tgenitive\tNone\tNone\tNone\tNone\tNone\tof Abraham\n"
     ]
    }
   ],
   "source": [
    "word_num = 1\n",
    "print('w_nm','role','class','type','osisId','n','lemma','normalized','strong','number','gender','case','tense','voice','mood','head','discontinuos','gloss',sep = '\\t')\n",
    "for elem in root.iter('w'):\n",
    "    print(word_num,\n",
    "          elem.attrib.get('role'),\n",
    "          elem.attrib.get('class'),\n",
    "          elem.attrib.get('type'),\n",
    "          elem.attrib.get('osisId'),\n",
    "          elem.attrib.get('n'),\n",
    "          elem.attrib.get('lemma'),\n",
    "          elem.attrib.get('normalized'),\n",
    "          elem.attrib.get('strong'),\n",
    "          elem.attrib.get('number'),\n",
    "          elem.attrib.get('gender'),\n",
    "          elem.attrib.get('case'),\n",
    "          elem.attrib.get('tense'),\n",
    "          elem.attrib.get('voice'),\n",
    "          elem.attrib.get('mood'),\n",
    "          elem.attrib.get('head'),\n",
    "          elem.attrib.get('discontinuos'),\n",
    "          elem.attrib.get('gloss'),\n",
    "          sep = '\\t')\n",
    "    word_num = word_num + 1"
   ]
  },
  {
   "cell_type": "code",
   "execution_count": 17,
   "id": "17df7d2d-0d1a-421c-ab2c-2d928e0339e9",
   "metadata": {},
   "outputs": [
    {
     "name": "stdout",
     "output_type": "stream",
     "text": [
      "a\tbook\trole\tclass\n",
      "1\tMatthew\tcl\tNaN\n",
      "2\tMatthew\tcl\tcl\n",
      "3\tMatthew\tp\tNaN\n",
      "4\tMatthew\tp\tnp\n",
      "5\tMatthew\tp\tnp\n",
      "6\tMatthew\tp\tnp\n",
      "7\tMatthew\tp\tnp\n",
      "8\tMatthew\tp\tnp\n",
      "9\tMatthew\tp\tnp\n"
     ]
    }
   ],
   "source": [
    "role = {}\n",
    "classs = {}\n",
    "n = {}\n",
    "print('a','book','role','class',sep = '\\t')\n",
    "book = root.attrib.values()\n",
    "a = 0\n",
    "for elem in root.iter('wg'):\n",
    "    alef = elem.attrib\n",
    "    for key in alef:\n",
    "        if 'role' in key:\n",
    "            role[key] = alef[key]\n",
    "            role_old = role[key]\n",
    "            if 'class' in key:\n",
    "                classs[key] = alef[key]\n",
    "                classs_old = classs[key]\n",
    "                a = a+1\n",
    "                print(a,*root.attrib.values(),role_old,classs_old,sep = '\\t')\n",
    "                break\n",
    "            else:\n",
    "                classs[key] = 'NaN'\n",
    "                classs_old = classs[key]\n",
    "                a = a+1\n",
    "                print(a,*root.attrib.values(),role_old,classs_old,sep = '\\t')\n",
    "                break\n",
    "        else:\n",
    "            if 'class' in key:\n",
    "                classs[key] = alef[key]\n",
    "                classs_old = classs[key]\n",
    "                a = a+1\n",
    "                print(a,*book,role_old,classs_old,sep = '\\t')\n",
    "                break\n",
    "            else:\n",
    "                classs[key] = 'NaN'\n",
    "                classs_old = classs[key]\n",
    "                a = a+1\n",
    "                print(a,*book,role_old,classs_old,sep = '\\t')\n",
    "            break"
   ]
  },
  {
   "cell_type": "code",
   "execution_count": 18,
   "id": "5887f1da-a64f-491e-a5e5-d5176e1744ef",
   "metadata": {},
   "outputs": [
    {
     "name": "stdout",
     "output_type": "stream",
     "text": [
      "a\tbook\trole\tclass\n",
      "1\tMatthew\tcl\tNaN\t1\n",
      "2\tMatthew\tcl\tcl\t1\n",
      "3\tMatthew\tp\tNaN\t2\n",
      "4\tMatthew\tp\tNaN\t2\n",
      "5\tMatthew\tp\tNaN\t2\n",
      "6\tMatthew\tp\tNaN\t2\n",
      "7\tMatthew\tp\tNaN\t2\n",
      "8\tMatthew\tp\tNaN\t2\n",
      "9\tMatthew\tp\tNaN\t2\n"
     ]
    }
   ],
   "source": [
    "features = ['role','class','n', 'rule']\n",
    "role = {}\n",
    "classs = {}\n",
    "n = {}\n",
    "rule = {}\n",
    "print('a','book','role','class',sep = '\\t')\n",
    "book = root.attrib.values()\n",
    "a = 0\n",
    "i = 0\n",
    "for elem in root.iter('wg'):\n",
    "    alef = elem.attrib\n",
    "    for key in alef:\n",
    "        if features[0] in key:\n",
    "            role[key] = alef[key]\n",
    "            role_old = role[key]\n",
    "            i=i+1\n",
    "            if features[i] in key:\n",
    "                classs[key] = alef[key]\n",
    "                classs_old = classs[key]\n",
    "                a = a+1\n",
    "                print(a,*book,role_old,classs_old,i,sep = '\\t')\n",
    "                break\n",
    "            else:\n",
    "                classs[key] = 'NaN'\n",
    "                classs_old = classs[key]\n",
    "                a = a+1\n",
    "                print(a,*book,role_old,classs_old,i,sep = '\\t')\n",
    "            break\n",
    "        else:\n",
    "            if features[i] in key:\n",
    "                classs[key] = alef[key]\n",
    "                classs_old = classs[key]\n",
    "                a = a+1\n",
    "                print(a,*book,role_old,classs_old,i,sep = '\\t')\n",
    "                break\n",
    "            else:\n",
    "                classs[key] = 'NaN'\n",
    "                classs_old = classs[key]\n",
    "                a = a+1\n",
    "                print(a,*book,role_old,classs_old,i,sep = '\\t')\n",
    "                break\n",
    "        if features[i] in key:\n",
    "            n[key] = alef[key]\n",
    "            n_old = n[key]\n",
    "            i=i+1\n",
    "            if features[i] in key:\n",
    "                rule[key] = alef[key]\n",
    "                rule_old = rule[key]\n",
    "                a = a+1\n",
    "                print(a,*book,role_old,classs_old,n_old,rule_old,i,sep = '\\t')\n",
    "                break\n",
    "            else:\n",
    "                rule[key] = 'NaN'\n",
    "                rule_old = rule[key]\n",
    "                a = a+1\n",
    "                print(a,*book,role_old,classs_old,n_old,rule_old,i,sep = '\\t')\n",
    "            break"
   ]
  },
  {
   "cell_type": "code",
   "execution_count": 19,
   "id": "9f2bb32d-edb4-484c-bea7-d480576701e4",
   "metadata": {},
   "outputs": [
    {
     "name": "stdout",
     "output_type": "stream",
     "text": [
      "a\tbook\trole\tclass\n",
      "1\tMatthew\tcl\tNaN\n",
      "2\tMatthew\tcl\tcl\n",
      "3\tMatthew\tp\tNaN\n",
      "4\tMatthew\tp\tnp\n",
      "5\tMatthew\tp\tnp\n",
      "6\tMatthew\tp\tnp\n",
      "7\tMatthew\tp\tnp\n",
      "8\tMatthew\tp\tnp\n",
      "9\tMatthew\tp\tnp\n"
     ]
    }
   ],
   "source": [
    "role = {}\n",
    "classs = {}\n",
    "n = {}\n",
    "print('a','book','role','class',sep = '\\t')\n",
    "book = root.attrib.values()\n",
    "a = 0\n",
    "for elem in root.iter('wg'):\n",
    "    alef = elem.attrib\n",
    "    for key in alef:\n",
    "        if 'role' in key:\n",
    "            role[key] = alef[key]\n",
    "            role_old = role[key]\n",
    "            if 'class' in key:\n",
    "                classs[key] = alef[key]\n",
    "                classs_old = classs[key]\n",
    "                a = a+1\n",
    "                print(a,*root.attrib.values(),role_old,classs_old,sep = '\\t')\n",
    "                break\n",
    "            else:\n",
    "                classs[key] = 'NaN'\n",
    "                classs_old = classs[key]\n",
    "                a = a+1\n",
    "                print(a,*root.attrib.values(),role_old,classs_old,sep = '\\t')\n",
    "            break\n",
    "        else:\n",
    "            if 'class' in key:\n",
    "                classs[key] = alef[key]\n",
    "                classs_old = classs[key]\n",
    "                a = a+1\n",
    "                print(a,*book,role_old,classs_old,sep = '\\t')\n",
    "                break\n",
    "            else:\n",
    "                beta[key] = 'NaN'\n",
    "                beta_old = beta[key]\n",
    "                a = a+1\n",
    "                print(a,*book,role_old,classs_old,sep = '\\t')\n",
    "            break"
   ]
  },
  {
   "cell_type": "code",
   "execution_count": 23,
   "id": "a90a469e-63c7-4163-907a-a0eb85096b83",
   "metadata": {},
   "outputs": [
    {
     "name": "stdout",
     "output_type": "stream",
     "text": [
      "cl\n",
      "cl 400010010010082 P2CL\n",
      "p np 400010010010080 NPofNP\n",
      "np 400010010020070 NPofNP\n",
      "np 400010010030060 Np-Appos\n",
      "np 400010010030040 true Np-Appos\n",
      "np 400010010030020 true Np-Appos\n",
      "np 400010010050020 NPofNP\n",
      "np 400010010070020 NPofNP\n"
     ]
    }
   ],
   "source": [
    "for elem in root.iter('wg'):\n",
    "    if ('cl' in elem.attrib.values()):\n",
    "        print(*elem.attrib.values())\n",
    "    else:\n",
    "        if ('np' in elem.attrib.values()):\n",
    "            print(*elem.attrib.values())\n",
    "    #print(elem.attrib)\n",
    "    #alef = elem.attrib.values()\n",
    "    #print(alef)\n",
    "    #print(elem.attrib.values())"
   ]
  },
  {
   "cell_type": "code",
   "execution_count": 30,
   "id": "a3ba1608-ac8a-42ed-b3af-e0c2202a88ab",
   "metadata": {},
   "outputs": [
    {
     "name": "stdout",
     "output_type": "stream",
     "text": [
      "Matthew\tMatthew\n",
      "Matthew\n",
      "Matthew\n",
      "Matthew\tverse\tMatt.1.1\n",
      "Matthew\tcl\n",
      "Matthew\tcl\t400010010010082\tP2CL\n",
      "Matthew\tp\tnp\t400010010010080\tNPofNP\n",
      "Matthew\tnoun\tcommon\tMatt.1.1!1\t400010010010010\tβίβλος\tΒίβλος\t976\tsingular\tfeminine\tnominative\ttrue\t[The] book\n",
      "Matthew\tnp\t400010010020070\tNPofNP\n",
      "Matthew\tnoun\tcommon\tMatt.1.1!2\t400010010020010\tγένεσις\tγενέσεως\t1078\tsingular\tfeminine\tgenitive\ttrue\tof [the] genealogy\n",
      "Matthew\tnp\t400010010030060\tNp-Appos\n",
      "Matthew\tnp\t400010010030040\ttrue\tNp-Appos\n",
      "Matthew\tnp\t400010010030020\ttrue\tNp-Appos\n",
      "Matthew\tnoun\tproper\tMatt.1.1!3\t400010010030010\tἸησοῦς\tἸησοῦ\t2424\tsingular\tmasculine\tgenitive\ttrue\tof Jesus\n",
      "Matthew\tnoun\tproper\tMatt.1.1!4\t400010010040010\tΧριστός\tΧριστοῦ\t5547\tsingular\tmasculine\tgenitive\tChrist\n",
      "Matthew\tnp\t400010010050020\tNPofNP\n",
      "Matthew\tnoun\tcommon\tMatt.1.1!5\t400010010050010\tυἱός\tυἱοῦ\t5207\tsingular\tmasculine\tgenitive\ttrue\tson\n",
      "Matthew\tnoun\tproper\tMatt.1.1!6\t400010010060010\tΔαυίδ\tΔαυείδ\t1138\tsingular\tmasculine\tgenitive\tof David\n",
      "Matthew\tnp\t400010010070020\tNPofNP\n",
      "Matthew\tnoun\tcommon\tMatt.1.1!7\t400010010070010\tυἱός\tυἱοῦ\t5207\tsingular\tmasculine\tgenitive\ttrue\tson\n",
      "Matthew\tnoun\tproper\tMatt.1.1!8\t400010010080010\tἈβραάμ\tἈβραάμ\t11\tsingular\tmasculine\tgenitive\tof Abraham\n",
      "Matthew\n"
     ]
    }
   ],
   "source": [
    "#all information together\n",
    "\n",
    "filtro = \"*\"\n",
    "for elem in root.iter(filtro):\n",
    "    #word = elem.attrib\n",
    "    #res_list = word.values()\n",
    "    #new_value = list(res_list)\n",
    "\n",
    "    print(*root.attrib.values(),*elem.attrib.values(),sep = '\\t')"
   ]
  },
  {
   "cell_type": "code",
   "execution_count": 31,
   "id": "b15d347a-3d09-4e53-9332-953f2d355502",
   "metadata": {},
   "outputs": [
    {
     "name": "stdout",
     "output_type": "stream",
     "text": [
      "Matthew\tcl\n",
      "Matthew\tcl\t400010010010082\tP2CL\n",
      "Matthew\tp\tnp\t400010010010080\tNPofNP\n",
      "Matthew\tnp\t400010010020070\tNPofNP\n",
      "Matthew\tnp\t400010010030060\tNp-Appos\n",
      "Matthew\tnp\t400010010030040\ttrue\tNp-Appos\n",
      "Matthew\tnp\t400010010030020\ttrue\tNp-Appos\n",
      "Matthew\tnp\t400010010050020\tNPofNP\n",
      "Matthew\tnp\t400010010070020\tNPofNP\n"
     ]
    }
   ],
   "source": [
    "#morphological information of each word\n",
    "book = root.attrib.values()\n",
    "\n",
    "for w in root.iter('wg'):\n",
    "    word_feature = w.attrib\n",
    "    #print(word_feature)\n",
    "    \n",
    "    res_list = word_feature.values()\n",
    "    new_value = list(res_list)\n",
    "    print(*book,*new_value, sep = '\\t')\n",
    "    \n",
    "    #a = word_feature.keys()\n",
    "    #print(*a)\n",
    "    \n",
    "    #for x in word_feature:\n",
    "    #    print(word_feature[x])\n",
    "    \n",
    "    #for x in word_feature.keys():\n",
    "    #    print(x)\n",
    "\n",
    "    #for x, y in word_feature.items():\n",
    "    #    print(y)"
   ]
  },
  {
   "cell_type": "code",
   "execution_count": null,
   "id": "42d4ca72-41af-4dc1-a40c-0a593087103a",
   "metadata": {},
   "outputs": [],
   "source": []
  }
 ],
 "metadata": {
  "kernelspec": {
   "display_name": "Python 3 (ipykernel)",
   "language": "python",
   "name": "python3"
  },
  "language_info": {
   "codemirror_mode": {
    "name": "ipython",
    "version": 3
   },
   "file_extension": ".py",
   "mimetype": "text/x-python",
   "name": "python",
   "nbconvert_exporter": "python",
   "pygments_lexer": "ipython3",
   "version": "3.9.13"
  }
 },
 "nbformat": 4,
 "nbformat_minor": 5
}
