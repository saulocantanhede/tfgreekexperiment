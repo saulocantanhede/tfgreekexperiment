{
 "cells": [
  {
   "cell_type": "code",
   "execution_count": 4,
   "id": "bc115afe-7c5f-435b-8d4c-1ff59a114332",
   "metadata": {},
   "outputs": [],
   "source": [
    "import xml.etree.ElementTree as ET\n",
    "import pandas as pd\n",
    "import re\n",
    "\n",
    "source_dirs = '/Users/TF/Downloads/input_xml/text.xml'\n",
    "\n",
    "tree = ET.parse(source_dirs)\n",
    "root = tree.getroot()"
   ]
  },
  {
   "cell_type": "code",
   "execution_count": 5,
   "id": "7ad58287-bf00-4f21-bde1-649408de457a",
   "metadata": {},
   "outputs": [
    {
     "name": "stdout",
     "output_type": "stream",
     "text": [
      "Matthew\n"
     ]
    }
   ],
   "source": [
    "book = root.attrib\n",
    "book = print(*book.values())"
   ]
  },
  {
   "cell_type": "code",
   "execution_count": 6,
   "id": "176e0a54-08e1-4897-907c-1323c57801c7",
   "metadata": {},
   "outputs": [
    {
     "name": "stdout",
     "output_type": "stream",
     "text": [
      "class\ttype\tosisId\tn\tlemma\tnormalized\tstrong\tnumber\tgender\tcase\thead\tgloss\n",
      "class\ttype\tosisId\tn\tlemma\tnormalized\tstrong\tnumber\tgender\tcase\thead\tgloss\n",
      "class\ttype\tosisId\tn\tlemma\tnormalized\tstrong\tnumber\tgender\tcase\thead\tgloss\n",
      "class\ttype\tosisId\tn\tlemma\tnormalized\tstrong\tnumber\tgender\tcase\tgloss\n",
      "class\ttype\tosisId\tn\tlemma\tnormalized\tstrong\tnumber\tgender\tcase\thead\tgloss\n",
      "class\ttype\tosisId\tn\tlemma\tnormalized\tstrong\tnumber\tgender\tcase\tgloss\n",
      "class\ttype\tosisId\tn\tlemma\tnormalized\tstrong\tnumber\tgender\tcase\thead\tgloss\n",
      "class\ttype\tosisId\tn\tlemma\tnormalized\tstrong\tnumber\tgender\tcase\tgloss\n",
      "noun\tcommon\tMatt.1.1!1\t400010010010010\tβίβλος\tΒίβλος\t976\tsingular\tfeminine\tnominative\ttrue\t[The] book\n",
      "noun\tcommon\tMatt.1.1!2\t400010010020010\tγένεσις\tγενέσεως\t1078\tsingular\tfeminine\tgenitive\ttrue\tof [the] genealogy\n",
      "noun\tproper\tMatt.1.1!3\t400010010030010\tἸησοῦς\tἸησοῦ\t2424\tsingular\tmasculine\tgenitive\ttrue\tof Jesus\n",
      "noun\tproper\tMatt.1.1!4\t400010010040010\tΧριστός\tΧριστοῦ\t5547\tsingular\tmasculine\tgenitive\tChrist\n",
      "noun\tcommon\tMatt.1.1!5\t400010010050010\tυἱός\tυἱοῦ\t5207\tsingular\tmasculine\tgenitive\ttrue\tson\n",
      "noun\tproper\tMatt.1.1!6\t400010010060010\tΔαυίδ\tΔαυείδ\t1138\tsingular\tmasculine\tgenitive\tof David\n",
      "noun\tcommon\tMatt.1.1!7\t400010010070010\tυἱός\tυἱοῦ\t5207\tsingular\tmasculine\tgenitive\ttrue\tson\n",
      "noun\tproper\tMatt.1.1!8\t400010010080010\tἈβραάμ\tἈβραάμ\t11\tsingular\tmasculine\tgenitive\tof Abraham\n"
     ]
    }
   ],
   "source": [
    "for w in root.iter('w'):\n",
    "    a = w.attrib.keys()\n",
    "    print(*a, sep = '\\t')\n",
    "\n",
    "for w in root.iter('w'):\n",
    "    word_feature = w.attrib\n",
    "    #print(word_feature)\n",
    "    \n",
    "    #a = word_feature.keys()\n",
    "    #print(a)\n",
    "    \n",
    "    #for x in word_feature:\n",
    "    #    print(word_feature[x])\n",
    "        \n",
    "    #for x in word_feature.keys():\n",
    "    #    print(x)\n",
    "\n",
    "    res_list = word_feature.values()\n",
    "    new_value = list(res_list)\n",
    "    print(*new_value, sep = '\\t')\n",
    "    \n",
    "    #for x, y in word_feature.items():\n",
    "    #    print(y)"
   ]
  },
  {
   "cell_type": "code",
   "execution_count": null,
   "id": "74c49e55-2985-4af9-8058-ac4669bbb610",
   "metadata": {},
   "outputs": [],
   "source": []
  }
 ],
 "metadata": {
  "kernelspec": {
   "display_name": "Python 3 (ipykernel)",
   "language": "python",
   "name": "python3"
  },
  "language_info": {
   "codemirror_mode": {
    "name": "ipython",
    "version": 3
   },
   "file_extension": ".py",
   "mimetype": "text/x-python",
   "name": "python",
   "nbconvert_exporter": "python",
   "pygments_lexer": "ipython3",
   "version": "3.9.13"
  }
 },
 "nbformat": 4,
 "nbformat_minor": 5
}
