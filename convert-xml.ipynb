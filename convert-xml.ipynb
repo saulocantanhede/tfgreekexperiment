{
 "cells": [
  {
   "cell_type": "markdown",
   "id": "f17e502e-11c8-4f0d-be14-dfc932281f1b",
   "metadata": {},
   "source": [
    "# Read XML data and store in Excel "
   ]
  },
  {
   "cell_type": "markdown",
   "id": "781430a5-0117-45e9-94b0-a959154dbe3a",
   "metadata": {},
   "source": [
    "## Set up panda"
   ]
  },
  {
   "cell_type": "code",
   "execution_count": 1,
   "id": "88d1f87e-7283-4dfc-88d2-ac9f66fa6552",
   "metadata": {
    "ExecuteTime": {
     "end_time": "2022-10-28T02:58:14.739227Z",
     "start_time": "2022-10-28T02:57:38.766097Z"
    }
   },
   "outputs": [],
   "source": [
    "import pandas as pd\n",
    "import numpy as np"
   ]
  },
  {
   "cell_type": "markdown",
   "id": "65da25f2-404e-4656-bd91-c19737e85dfb",
   "metadata": {},
   "source": [
    "## Import the NA 1904 XML data"
   ]
  },
  {
   "cell_type": "markdown",
   "id": "6339218d-40d4-4026-9609-9431135708bb",
   "metadata": {},
   "source": [
    "First set up environment to access files on the OS.\n",
    "XML source files are found on github https://github.com/Clear-Bible/macula-greek"
   ]
  },
  {
   "cell_type": "code",
   "execution_count": 25,
   "id": "7509f7e2-bb15-4beb-96fb-bb3ead2b7245",
   "metadata": {},
   "outputs": [],
   "source": [
    "import sys\n",
    "import os\n",
    "# MyCurrentDir = os.path.abspath(os.path.join('..'))\n",
    "MyCurrentDir = \"/Users/TF/Downloads/input_xml/\"\n",
    "InputFile = MyCurrentDir+\"/sentence.xml\"\n",
    "OutputFile = MyCurrentDir+\"/sentence.xlsx\"  #excel file"
   ]
  },
  {
   "cell_type": "markdown",
   "id": "a5f46f40-aed9-48bc-abf8-30bf56f6eafe",
   "metadata": {},
   "source": [
    "Load the package to handle XML files"
   ]
  },
  {
   "cell_type": "code",
   "execution_count": 3,
   "id": "5f45143e-41bb-482e-8243-c338163e940d",
   "metadata": {},
   "outputs": [
    {
     "name": "stdout",
     "output_type": "stream",
     "text": [
      "Requirement already satisfied: lxml in c:\\users\\tf\\anaconda3\\lib\\site-packages (4.9.1)\n"
     ]
    }
   ],
   "source": [
    "!pip install lxml"
   ]
  },
  {
   "cell_type": "code",
   "execution_count": 3,
   "id": "839d5038-c8fc-4e5f-8546-3c226e92a33c",
   "metadata": {},
   "outputs": [],
   "source": [
    "#import xml.etree.ElementTree as ET\n",
    "#or (the faster version, need to check compatibility)\n",
    "import xml.etree.cElementTree as ET"
   ]
  },
  {
   "cell_type": "code",
   "execution_count": 26,
   "id": "af5700d7-a532-4de5-8262-2cf42a58b710",
   "metadata": {},
   "outputs": [],
   "source": [
    "# send xml document to parsing process\n",
    "tree = ET.parse(InputFile)\n",
    "root = tree.getroot()"
   ]
  },
  {
   "cell_type": "markdown",
   "id": "118814f3-9f9d-4705-913e-1984e2a7d8a2",
   "metadata": {},
   "source": [
    "## Add the parent info to each node of the XML tree"
   ]
  },
  {
   "cell_type": "code",
   "execution_count": 27,
   "id": "87a8163a-317b-47ab-98da-14ad64db0777",
   "metadata": {},
   "outputs": [],
   "source": [
    "# idea from https://stackoverflow.com/questions/2170610/access-elementtree-node-parent-node\n",
    "\n",
    "def addParentInfo(et):\n",
    "    for child in et:\n",
    "        child.attrib['parent'] = et\n",
    "        addParentInfo(child)\n",
    "\n",
    "def getParent(et):\n",
    "    if 'parent' in et.attrib:\n",
    "        return et.attrib['parent']\n",
    "    else:\n",
    "        return None\n",
    "    \n",
    "# Now add all the parent info to the nodes in the xtree [important!]\n",
    "\n",
    "addParentInfo(tree.getroot())"
   ]
  },
  {
   "cell_type": "markdown",
   "id": "f95b778b-2414-451c-ba5d-395d0a2c5b0d",
   "metadata": {},
   "source": [
    "Leaf means the node containing the Greek word as data (i.e. the leaves on the tree).\n",
    "Parent1 is leaf's parent, Parent2 is Parent1's parent, etc."
   ]
  },
  {
   "cell_type": "markdown",
   "id": "4e41a9a8-610a-4b39-b12e-558f9f19daed",
   "metadata": {},
   "source": [
    "## Harvesting xml and storing in MySQL"
   ]
  },
  {
   "cell_type": "code",
   "execution_count": 28,
   "id": "7bdfcd72-8ca8-4431-a0b1-35d8fb247550",
   "metadata": {},
   "outputs": [
    {
     "name": "stdout",
     "output_type": "stream",
     "text": [
      "# of leaves: 0\n",
      "# of leaves: 25\n",
      "# of leaves: 50\n",
      "# of leaves: 75\n",
      "Finished - Total # of leaves: 96\n",
      "--- 1.472165822982788 seconds ---\n"
     ]
    }
   ],
   "source": [
    "import time\n",
    "start_time = time.time()\n",
    "# walk over all the leaves and harvest the data\n",
    "# MaxCollectItems (= number of leaves to harvest) is just there for development and debug \n",
    "MaxCollectItems = 1000\n",
    "CollectedItems= 0\n",
    "# create empty DataFrame\n",
    "full_df=pd.DataFrame({})\n",
    "df=pd.DataFrame({})\n",
    "for elem in tree.iter():\n",
    "    if (CollectedItems == MaxCollectItems):  break\n",
    "    if not list(elem):\n",
    "       if (CollectedItems%25==0): print (\"# of leaves:\",CollectedItems)\n",
    "       CollectedItems +=1\n",
    "       LeafNodeId = elem.attrib.get('nodeId')\n",
    "       if elem.tag != 'milestone': #remove blank lines\n",
    "           df=pd.DataFrame({#'LeafNodeId':        [LeafNodeId],\n",
    "                            #'LeafNodeName':      [elem.tag],                             '\n",
    "                            #'LeafText':          [elem.text], \n",
    "                            'LeafRef':            [elem.attrib.get('ref')],\n",
    "                            'LeafAfter':          [elem.attrib.get('after')],\n",
    "                            'LeafClass':          [elem.attrib.get('class')],\n",
    "                            'LeafNodeId':         [elem.attrib.get('xml:id')],\n",
    "                            'LeafLemma':          [elem.attrib.get('lemma')],\n",
    "                            'LeafNormalized':     [elem.attrib.get('normalized')],\n",
    "                            'LeafStrong':         [elem.attrib.get('strong')],\n",
    "                            'LeafNumber':         [elem.attrib.get('number')],\n",
    "                            'LeafGender':         [elem.attrib.get('gender')],\n",
    "                            'LeafCase':           [elem.attrib.get('case')],\n",
    "                            'LeafGloss':          [elem.attrib.get('gloss')],  \n",
    "                            'LeafDomain':         [elem.attrib.get('domain')],\n",
    "                            'LeafLN':             [elem.attrib.get('ln')],\n",
    "                            'LeafMorphId':        [elem.attrib.get('morph')],\n",
    "                            'LeafUnicode':        [elem.attrib.get('unicode')],\n",
    "                            'LeafJunction':       [elem.attrib.get('junction')],\n",
    "                            'LeafPerson':         [elem.attrib.get('person')],\n",
    "                            'LeafTense':          [elem.attrib.get('tense')],\n",
    "                            'LeafVoice':          [elem.attrib.get('voice')],\n",
    "                            'LeafMood':           [elem.attrib.get('mood')],\n",
    "                            'LeafFrame':          [elem.attrib.get('frame')],\n",
    "                            'LeafArticular':      [elem.attrib.get('articular')], \n",
    "                            'LeafDiscontinuos':   [elem.attrib.get('discontinous')],\n",
    "                            'LeafReferent':       [elem.attrib.get('referent')], \n",
    "                            'LeafClauseType':     [elem.attrib.get('clauseType')],\n",
    "                            'LeafSubjref':        [elem.attrib.get('subjref')],\n",
    "                            'LeafRule':           [elem.attrib.get('rule')],\n",
    "                            'LeafnodeId':         [elem.attrib.get('nodeId')],\n",
    "                            'LeafDegree':         [elem.attrib.get('degree')]\n",
    "                             },\n",
    "                            index={LeafNodeId})\n",
    "           # folling code will trace down parents upto the tree and store found attributes\n",
    "           parentnode=getParent(elem)\n",
    "           index=1\n",
    "           ##parent_df=pd.DataFrame({'LeafNodeId': [LeafNodeId]})\n",
    "           while (parentnode):\n",
    "               df=pd.concat([df,pd.DataFrame({\n",
    "                            'Parent{}Class'.format(index):           parentnode.attrib.get('class'),\n",
    "                            'Parent{}Rule'.format(index):            parentnode.attrib.get('rule'),\n",
    "                            'Parent{}Role'.format(index):            parentnode.attrib.get('role'),\n",
    "                            'Parent{}Type'.format(index):            parentnode.attrib.get('type'),\n",
    "                            'Parent{}ApposCont'.format(index):       parentnode.attrib.get('appositioncontainer'),\n",
    "                            },\n",
    "                            index={LeafNodeId})],\n",
    "                            axis=1)\n",
    "               #print(\"\\n------\\n\", df2)\n",
    "               currentnode=parentnode\n",
    "               parentnode=getParent(currentnode)      \n",
    "               index+=1\n",
    "           full_df=pd.concat([full_df,df])\n",
    "\n",
    "#print(full_df)\n",
    "print (\"Finished - Total # of leaves:\",CollectedItems)\n",
    "print(\"--- %s seconds ---\" % (time.time() - start_time))\n"
   ]
  },
  {
   "cell_type": "markdown",
   "id": "6675b8d8-eb56-4c2a-b6ed-dc786a9adc90",
   "metadata": {},
   "source": [
    "## Export to excel sheet"
   ]
  },
  {
   "cell_type": "markdown",
   "id": "c1ecbc12-df2e-41f6-8e76-1716d5983ea3",
   "metadata": {},
   "source": [
    "note: export to excel https://datatofish.com/export-dataframe-to-excel/\n",
    "\n",
    "if package was not installed, ad it with: pip install openpyxl"
   ]
  },
  {
   "cell_type": "code",
   "execution_count": 29,
   "id": "eb7ad670-a383-4b55-ad1d-9968a6ab822d",
   "metadata": {},
   "outputs": [],
   "source": [
    "full_df.to_excel(r\"{}\".format(OutputFile), index=False)"
   ]
  },
  {
   "cell_type": "code",
   "execution_count": null,
   "id": "8a773ebc-e340-4dea-9dcc-44888e7227ca",
   "metadata": {},
   "outputs": [],
   "source": []
  }
 ],
 "metadata": {
  "kernelspec": {
   "display_name": "Python 3 (ipykernel)",
   "language": "python",
   "name": "python3"
  },
  "language_info": {
   "codemirror_mode": {
    "name": "ipython",
    "version": 3
   },
   "file_extension": ".py",
   "mimetype": "text/x-python",
   "name": "python",
   "nbconvert_exporter": "python",
   "pygments_lexer": "ipython3",
   "version": "3.9.13"
  }
 },
 "nbformat": 4,
 "nbformat_minor": 5
}
